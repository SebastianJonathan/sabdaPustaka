{
 "cells": [
  {
   "cell_type": "code",
   "execution_count": 47,
   "id": "96ae3b6a",
   "metadata": {},
   "outputs": [
    {
     "name": "stdout",
     "output_type": "stream",
     "text": [
      "Requirement already satisfied: datetime in c:\\users\\mika\\anaconda3\\lib\\site-packages (5.2)\n",
      "Requirement already satisfied: pytz in c:\\users\\mika\\anaconda3\\lib\\site-packages (from datetime) (2022.7)\n",
      "Requirement already satisfied: zope.interface in c:\\users\\mika\\anaconda3\\lib\\site-packages (from datetime) (5.4.0)\n",
      "Requirement already satisfied: setuptools in c:\\users\\mika\\anaconda3\\lib\\site-packages (from zope.interface->datetime) (65.6.3)\n",
      "Note: you may need to restart the kernel to use updated packages.\n"
     ]
    }
   ],
   "source": [
    "pip install datetime"
   ]
  },
  {
   "cell_type": "code",
   "execution_count": 48,
   "id": "3ce558dd",
   "metadata": {},
   "outputs": [
    {
     "name": "stdout",
     "output_type": "stream",
     "text": [
      "Requirement already satisfied: pandas in c:\\users\\mika\\anaconda3\\lib\\site-packages (1.5.3)\n",
      "Requirement already satisfied: python-dateutil>=2.8.1 in c:\\users\\mika\\anaconda3\\lib\\site-packages (from pandas) (2.8.2)\n",
      "Requirement already satisfied: numpy>=1.21.0 in c:\\users\\mika\\anaconda3\\lib\\site-packages (from pandas) (1.23.5)\n",
      "Requirement already satisfied: pytz>=2020.1 in c:\\users\\mika\\anaconda3\\lib\\site-packages (from pandas) (2022.7)\n",
      "Requirement already satisfied: six>=1.5 in c:\\users\\mika\\anaconda3\\lib\\site-packages (from python-dateutil>=2.8.1->pandas) (1.16.0)\n",
      "Note: you may need to restart the kernel to use updated packages.\n"
     ]
    }
   ],
   "source": [
    "pip install pandas"
   ]
  },
  {
   "cell_type": "code",
   "execution_count": 49,
   "id": "da0f714e",
   "metadata": {},
   "outputs": [
    {
     "name": "stdout",
     "output_type": "stream",
     "text": [
      "Requirement already satisfied: pymysql in c:\\users\\mika\\anaconda3\\lib\\site-packages (1.1.0)\n",
      "Note: you may need to restart the kernel to use updated packages.\n"
     ]
    }
   ],
   "source": [
    "pip install pymysql"
   ]
  },
  {
   "cell_type": "code",
   "execution_count": 33,
   "id": "4786f15d",
   "metadata": {},
   "outputs": [],
   "source": [
    "import pandas as pd"
   ]
  },
  {
   "cell_type": "code",
   "execution_count": 34,
   "id": "1978e9ca",
   "metadata": {},
   "outputs": [
    {
     "name": "stdout",
     "output_type": "stream",
     "text": [
      "0      Apakah dampak positif teknologi Digital AI dal...\n",
      "1      Mengapa program membaca dan menceritakan natal...\n",
      "2      Bagaimana potensi teknologi dalam mengembangka...\n",
      "3      Apa arti transformasi ke digital dari segi kek...\n",
      "4      Bagaimana seharusnya kita membantu seseorang y...\n",
      "                             ...                        \n",
      "224    Apa yang menjadi new normal dalam pelayanan ge...\n",
      "225    Bagaimana pandangan Kristen dan Islam tentang ...\n",
      "226    Apa yang menjadi dasar bagi orang kristen untu...\n",
      "227    Bagaimana cara kita mengembangkan model untuk ...\n",
      "228    Bagaimana kontribusi tuhan kepada yayasan lemb...\n",
      "Name: Pertanyaan, Length: 229, dtype: object\n"
     ]
    }
   ],
   "source": [
    "xls_file = 'Downloads/SABDA.xlsx'\n",
    "df = pd.read_excel(xls_file)\n",
    "judul = df['judul']\n",
    "tanggal = df['tanggal']\n",
    "summary = df['summary']\n",
    "shortDesc = df['short_desc']\n",
    "unique = df['unique_code']\n",
    "pertanyaan = df['Pertanyaan']\n",
    "\n",
    "print(pertanyaan)\n"
   ]
  },
  {
   "cell_type": "code",
   "execution_count": 52,
   "id": "3e0025f1",
   "metadata": {},
   "outputs": [],
   "source": [
    "import pymysql\n",
    "from datetime import datetime\n",
    "\n",
    "mysql_config = {\n",
    "    'host': 'localhost',\n",
    "    'database': 'sabda',\n",
    "    'user': 'root',\n",
    "    'password': '',\n",
    "}\n",
    "\n",
    "connection = pymysql.connect(**mysql_config)\n",
    "cursor = connection.cursor()\n",
    "\n",
    "def generate_update_sql_script(filename, unique, judul, tanggal, summary, shortDesc, pertanyaan):\n",
    "    with open(filename, 'w', encoding='utf-8') as f:\n",
    "        f.write('SET NAMES utf8;\\n')\n",
    "        f.write('SET CHARACTER SET utf8;\\n')\n",
    "        for index in range(len(unique)):\n",
    "            update_query = \"UPDATE sabda_list_youtube_done SET judul = '{0}', tanggal = '{1}', summary = '{2}', short_desc = '{3}', Pertanyaan = '{4}' WHERE unique_code = '{5}';\\n\".format(\n",
    "                trim(escape_quotes(judul[index])), removeTime(tanggal[index]), trim(escape_quotes(summary[index])),\n",
    "                trim(escape_quotes(shortDesc[index])), trim(escape_quotes(pertanyaan[index])), trim(escape_quotes(unique[index])))\n",
    "            f.write(update_query)\n",
    "def trim(text):\n",
    "    if(text[0:1] == \" \"):\n",
    "        text = text[1:]\n",
    "    if(text[len(text) - 1 : len(text)] == \" \"):\n",
    "        text = text[0 : len(text) - 1]\n",
    "    return text\n",
    "\n",
    "def escape_quotes(text):\n",
    "    return text.replace(\"'\", \"\\\\'\")\n",
    "\n",
    "def removeTime(date_now):\n",
    "    timestamp_data = pd.Timestamp(date_now)\n",
    "    date_now = timestamp_data.strftime(\"%Y-%m-%d %H:%M:%S\")\n",
    "    datetime_obj = datetime.strptime(date_now, \"%Y-%m-%d %H:%M:%S\")\n",
    "    formatted_date_str = datetime_obj.strftime(\"%Y-%m-%d\")\n",
    "    return formatted_date_str\n",
    "generate_update_sql_script('update_query.sql',unique,judul,tanggal,summary,shortDesc,pertanyaan)\n"
   ]
  },
  {
   "cell_type": "code",
   "execution_count": 41,
   "id": "c5005fa4",
   "metadata": {},
   "outputs": [
    {
     "name": "stdout",
     "output_type": "stream",
     "text": [
      "Halo\n"
     ]
    }
   ],
   "source": [
    "def trim(text):\n",
    "    if(text[0:1] == \" \"):\n",
    "        text = text[1:]\n",
    "    if(text[len(text) - 1 : len(text)] == \" \"):\n",
    "        text = text[0 : len(text) - 1]\n",
    "    return text\n",
    "print(trim(\" Halo \"))"
   ]
  },
  {
   "cell_type": "code",
   "execution_count": null,
   "id": "14bbe6eb",
   "metadata": {},
   "outputs": [],
   "source": []
  }
 ],
 "metadata": {
  "kernelspec": {
   "display_name": "Python 3 (ipykernel)",
   "language": "python",
   "name": "python3"
  },
  "language_info": {
   "codemirror_mode": {
    "name": "ipython",
    "version": 3
   },
   "file_extension": ".py",
   "mimetype": "text/x-python",
   "name": "python",
   "nbconvert_exporter": "python",
   "pygments_lexer": "ipython3",
   "version": "3.10.9"
  }
 },
 "nbformat": 4,
 "nbformat_minor": 5
}
